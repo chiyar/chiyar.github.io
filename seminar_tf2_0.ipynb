{
  "nbformat": 4,
  "nbformat_minor": 0,
  "metadata": {
    "celltoolbar": "Raw Cell Format",
    "kernelspec": {
      "display_name": "Python 3",
      "language": "python",
      "name": "python3"
    },
    "language_info": {
      "codemirror_mode": {
        "name": "ipython",
        "version": 3
      },
      "file_extension": ".py",
      "mimetype": "text/x-python",
      "name": "python",
      "nbconvert_exporter": "python",
      "pygments_lexer": "ipython3",
      "version": "3.6.2"
    },
    "colab": {
      "name": "seminar_tf2.0.ipynb",
      "version": "0.3.2",
      "provenance": [],
      "collapsed_sections": [],
      "include_colab_link": true
    }
  },
  "cells": [
    {
      "cell_type": "markdown",
      "metadata": {
        "id": "view-in-github",
        "colab_type": "text"
      },
      "source": [
        "<a href=\"https://colab.research.google.com/github/chiyar/chiyar.github.io/blob/master/seminar_tf2_0.ipynb\" target=\"_parent\"><img src=\"https://colab.research.google.com/assets/colab-badge.svg\" alt=\"Open In Colab\"/></a>"
      ]
    },
    {
      "cell_type": "markdown",
      "metadata": {
        "id": "J8EXioJQm2Z2",
        "colab_type": "text"
      },
      "source": [
        "# Tensorflow\n",
        "\n",
        "![img](https://lh3.googleusercontent.com/I1Dpp7I9RZIGl0rVMlPfnhfl-bkl_2uDHZwVC87BWmqtPaAs1irMWOdJxTmTEQJB-VGfLryCyHxqvyNchVIVLL-vqGrF3Q=s688)\n",
        "\n",
        "В этом семинаре мы познакомимся с [Tensorflow](https://www.tensorflow.org/) и напишем на нём что-нибудь машинно-обучаемое.\n",
        "\n",
        "__[Если вы работаете локально]__ Устанавливаем tensorflow:\n",
        "* `pip install tensorflow==2.0.0rc0` хватит на первое время\n",
        "* Если вы хотите поддержку GPU или  TF специально собранный под ваш процессор, вам [сюда](https://www.tensorflow.org/install/)"
      ]
    },
    {
      "cell_type": "code",
      "metadata": {
        "id": "7NOl0fAum2aA",
        "colab_type": "code",
        "colab": {}
      },
      "source": [
        "!pip install tensorflow==2.0.0rc0 &> log\n",
        "\n",
        "import numpy as np\n",
        "import tensorflow as tf\n",
        "import matplotlib.pyplot as plt\n",
        "%matplotlib inline"
      ],
      "execution_count": 0,
      "outputs": []
    },
    {
      "cell_type": "markdown",
      "metadata": {
        "id": "3K3twrVDm2aa",
        "colab_type": "text"
      },
      "source": [
        "### __TensorFlow__ vs __numpy__\n",
        "\n",
        "Давайте посмотрим на то из чего состоят типичные программы на tensorflow и numpy."
      ]
    },
    {
      "cell_type": "code",
      "metadata": {
        "id": "ZUJKfIm1m2ad",
        "colab_type": "code",
        "outputId": "08d69ba1-99a4-4a81-ab8d-6d498ffcbe61",
        "colab": {
          "base_uri": "https://localhost:8080/",
          "height": 535
        }
      },
      "source": [
        "# numpy world\n",
        "\n",
        "x = np.arange(16).reshape(4, 4)\n",
        "\n",
        "print(\"X :\\n%s\\n\" % x)\n",
        "print(\"X.shape : %s\\n\" % (x.shape,))\n",
        "print(\"add 5 :\\n%s\\n\" % (x + 5))\n",
        "print(\"X*X^T  :\\n%s\\n\" % np.dot(x, x.T))\n",
        "print(\"mean over cols :\\n%s\\n\" % (x.mean(axis=-1)))\n",
        "print(\"cumsum of cols :\\n%s\\n\" % (np.cumsum(x, axis=0)))"
      ],
      "execution_count": 0,
      "outputs": [
        {
          "output_type": "stream",
          "text": [
            "X :\n",
            "[[ 0  1  2  3]\n",
            " [ 4  5  6  7]\n",
            " [ 8  9 10 11]\n",
            " [12 13 14 15]]\n",
            "\n",
            "X.shape : (4, 4)\n",
            "\n",
            "add 5 :\n",
            "[[ 5  6  7  8]\n",
            " [ 9 10 11 12]\n",
            " [13 14 15 16]\n",
            " [17 18 19 20]]\n",
            "\n",
            "X*X^T  :\n",
            "[[ 14  38  62  86]\n",
            " [ 38 126 214 302]\n",
            " [ 62 214 366 518]\n",
            " [ 86 302 518 734]]\n",
            "\n",
            "mean over cols :\n",
            "[ 1.5  5.5  9.5 13.5]\n",
            "\n",
            "cumsum of cols :\n",
            "[[ 0  1  2  3]\n",
            " [ 4  6  8 10]\n",
            " [12 15 18 21]\n",
            " [24 28 32 36]]\n",
            "\n"
          ],
          "name": "stdout"
        }
      ]
    },
    {
      "cell_type": "markdown",
      "metadata": {
        "id": "oqTJ_JOQm2aw",
        "colab_type": "text"
      },
      "source": [
        "Теперь напишем то же самое на TensorFlow."
      ]
    },
    {
      "cell_type": "code",
      "metadata": {
        "id": "ZpuHxiq4m2az",
        "colab_type": "code",
        "outputId": "d13b0377-9739-4cb7-a0da-f2f662c43fac",
        "colab": {
          "base_uri": "https://localhost:8080/",
          "height": 624
        }
      },
      "source": [
        "# tensorflow world\n",
        "\n",
        "x = tf.reshape(tf.range(16), [4, 4])\n",
        "\n",
        "print(\"X :\\n%s\" % x)\n",
        "print(\"X.shape : %s\\n\" % (x.shape,))\n",
        "print(\"add 5 :\\n%s\" % (x + 5))\n",
        "print(\"X*X^T  :\\n%s\" % tf.matmul(x, tf.transpose(x)))\n",
        "print(\"mean over cols :\\n%s\" % tf.reduce_mean(x, axis=-1))\n",
        "print(\"cumsum of cols :\\n%s\" % tf.cumsum(x, axis=0))\n",
        "print(\"x + numpy array: \\n%s\" % (x + np.arange(4)))"
      ],
      "execution_count": 0,
      "outputs": [
        {
          "output_type": "stream",
          "text": [
            "X :\n",
            "tf.Tensor(\n",
            "[[ 0  1  2  3]\n",
            " [ 4  5  6  7]\n",
            " [ 8  9 10 11]\n",
            " [12 13 14 15]], shape=(4, 4), dtype=int32)\n",
            "X.shape : (4, 4)\n",
            "\n",
            "add 5 :\n",
            "tf.Tensor(\n",
            "[[ 5  6  7  8]\n",
            " [ 9 10 11 12]\n",
            " [13 14 15 16]\n",
            " [17 18 19 20]], shape=(4, 4), dtype=int32)\n",
            "X*X^T  :\n",
            "tf.Tensor(\n",
            "[[ 14  38  62  86]\n",
            " [ 38 126 214 302]\n",
            " [ 62 214 366 518]\n",
            " [ 86 302 518 734]], shape=(4, 4), dtype=int32)\n",
            "mean over cols :\n",
            "tf.Tensor([ 1  5  9 13], shape=(4,), dtype=int32)\n",
            "cumsum of cols :\n",
            "tf.Tensor(\n",
            "[[ 0  1  2  3]\n",
            " [ 4  6  8 10]\n",
            " [12 15 18 21]\n",
            " [24 28 32 36]], shape=(4, 4), dtype=int32)\n",
            "x + numpy array: \n",
            "tf.Tensor(\n",
            "[[ 0  2  4  6]\n",
            " [ 4  6  8 10]\n",
            " [ 8 10 12 14]\n",
            " [12 14 16 18]], shape=(4, 4), dtype=int32)\n"
          ],
          "name": "stdout"
        }
      ]
    },
    {
      "cell_type": "markdown",
      "metadata": {
        "id": "qr7yfz1xm2bL",
        "colab_type": "text"
      },
      "source": [
        "## А теперь подробнее\n",
        "\n",
        "Как вы, наверное, заметили, на tensorflow писать примерно так же как на numpy. Есть тензоры - они выглядят, звучат и пахнут как numpy.array. Даже операции в tensorflow очень похожи на numpy:\n",
        "\n",
        "  * Поэлементные операции: __`a + b, a / b, a ** b, ...`__\n",
        "  * np.sin -> __tf.sin__\n",
        "  * np.mean -> __tf.reduce_mean__\n",
        "  * np.arange -> __tf.range__\n",
        "  * np.zeros -> __tf.zeros__\n",
        "  * np.random.randn -> __tf.random_normal__\n",
        "\n",
        "\n",
        "Вот только у каждой второй функции отличается название или интерфейс. И да, вам предстоит заново к ним привыкать. Развлекайтесь!\n",
        "\n",
        "![img](http://i0.kym-cdn.com/entries/icons/original/000/017/886/download.jpg)\n",
        "\n",
        "\n",
        "Несколько общих соображений: \n",
        "* np.array([...]) -> tf.convert_to_tensor([...]). Обратно: x.numpy()\n",
        "* у tf тензоров нет .методов(). x.transpose() -> tf.transpose(x)\n",
        "* np.mean, np.all, np.sum, ... -> tf.reduce_mean, tf.reduce_all, ...\n",
        "\n",
        "Если вы не можете найти какую-нибудь функцию, добро пожаловать в [документацию](https://www.tensorflow.org/versions/r2.0/api_docs/python/tf). Или ещё лучше - используйте ctrl+пробел в colab-е (shift+tab в jupyter) чтобы узнать API интересующей вас функции. Слишком много и страшно? Страшно было бы учить нейронки без GPU и автоматических градиентов. А с TF чем дальше, тем проще. Начнём с малого"
      ]
    },
    {
      "cell_type": "markdown",
      "metadata": {
        "id": "2q6qmwaAm2bu",
        "colab_type": "text"
      },
      "source": [
        "### Задание 1: polar pretzels\n",
        "_inspired by [this post](https://www.quora.com/What-are-the-most-interesting-equation-plots)_\n",
        "\n",
        "Есть в тригонометрии класс функций с забавными графиками. Вот пример:\n",
        "\n",
        "$$ x(t) = t - 1.5 * cos( 15 t) $$\n",
        "$$ y(t) = t - 1.5 * sin( 16 t) $$\n",
        "\n",
        "__задание:__ реализуйте вычисление этой функции на tensorflow (см. ниже)\n"
      ]
    },
    {
      "cell_type": "code",
      "metadata": {
        "id": "4JvKtg4Jm2bx",
        "colab_type": "code",
        "outputId": "65a59ceb-da33-4b19-d97c-104cb6cac293",
        "colab": {
          "base_uri": "https://localhost:8080/",
          "height": 269
        }
      },
      "source": [
        "t = tf.linspace(-10.0, 10.0, num=1000)\n",
        "\n",
        "x = ###YOUR CODE\n",
        "y = ###YOUR CODE\n",
        "\n",
        "plt.plot(x.numpy(), y.numpy());"
      ],
      "execution_count": 0,
      "outputs": [
        {
          "output_type": "display_data",
          "data": {
            "image/png": "[encoded data removed]",
            "text/plain": [
              "<Figure size 432x288 with 1 Axes>"
            ]
          },
          "metadata": {
            "tags": []
          }
        }
      ]
    },
    {
      "cell_type": "markdown",
      "metadata": {
        "id": "JM7J6Dlpm2b7",
        "colab_type": "text"
      },
      "source": [
        "Если вы уже выполнили задание, предлагаем\n",
        "* поиграться с параметрами кренделя\n",
        "* работа с размерностями в TF - [тут](https://gist.github.com/justheuristic/138fde49b32ec59f2d80298f6959d5ab#file-md)\n",
        "* визуализация TF-ных вычислений в виде графа  - [тут](https://gist.github.com/justheuristic/138fde49b32ec59f2d80298f6959d5ab#file-tensorboard-md)\n",
        "\n",
        "\n",
        "А ещё есть длинный, но клёвый обзор всех фичей [tensorflow 2.0](https://www.tensorflow.org/beta/guide/effective_tf2) - но лучше читать его уже после семинара."
      ]
    },
    {
      "cell_type": "markdown",
      "metadata": {
        "id": "jOtj3A-Sm2b_",
        "colab_type": "text"
      },
      "source": [
        "### Задание 2: mean squared error\n",
        "\n",
        "__задание__ посчитайте MSE по 2 векторам - предсказаниям и правильным ответам. На TF, естественно"
      ]
    },
    {
      "cell_type": "code",
      "metadata": {
        "id": "F2hNxn6sm2cB",
        "colab_type": "code",
        "colab": {}
      },
      "source": [
        "def compute_my_mse(y_target, y_predicted):\n",
        "    return <вычислите mse между y_target и y_predicted>"
      ],
      "execution_count": 0,
      "outputs": []
    },
    {
      "cell_type": "code",
      "metadata": {
        "id": "WjHwrEgNm2cI",
        "colab_type": "code",
        "outputId": "7de8695b-125e-4946-bf6b-4cb235d23bb4",
        "colab": {
          "base_uri": "https://localhost:8080/",
          "height": 35
        }
      },
      "source": [
        "# Тесты\n",
        "from sklearn.metrics import mean_squared_error\n",
        "\n",
        "for n in [1, 5, 10, 10 ** 3]:\n",
        "    \n",
        "    elems = [np.arange(n), np.arange(n, 0, -1), np.zeros(n),\n",
        "             np.ones(n), np.random.random(n), np.random.randint(100,size=n)]\n",
        "    \n",
        "    for el in elems:\n",
        "        for el_2 in elems:\n",
        "            el, el2 = el.astype('float32'), el_2.astype('float32')\n",
        "            true_mse = np.array(mean_squared_error(el, el_2))\n",
        "            my_mse = compute_my_mse(el, el_2)\n",
        "            if not np.allclose(true_mse, my_mse):\n",
        "                print('Ошибка:')\n",
        "                print('mse(%s,%s)' % (el,el_2))\n",
        "                print(\"должно быть: %f, получилось: %f\" % (true_mse, my_mse))\n",
        "                raise ValueError(\"Что-то не так\")\n",
        "\n",
        "print(\"Все тесты пройдены!\")    "
      ],
      "execution_count": 0,
      "outputs": [
        {
          "output_type": "stream",
          "text": [
            "Все тесты пройдены!\n"
          ],
          "name": "stdout"
        }
      ]
    },
    {
      "cell_type": "markdown",
      "metadata": {
        "id": "CpeC1_Xozmgp",
        "colab_type": "text"
      },
      "source": [
        "Bonus round: вы можете ускорять TF-ные вычисления при помощи [`tf.function`](https://www.tensorflow.org/beta/tutorials/eager/tf_function). В большинстве случаев достаточно написать @tf.function перед объявлением функции и TF оптимизирует граф вычислений."
      ]
    },
    {
      "cell_type": "markdown",
      "metadata": {
        "id": "U-Adpd2F0cDE",
        "colab_type": "text"
      },
      "source": [
        "# Автоматические градиенты\n",
        "\n",
        "В Tensorflow вы можете автоматически вычислить производные функции используя [GradientTape](https://www.tensorflow.org/beta/tutorials/eager/automatic_differentiation). Интуитивно это такая штука, которая записыват всю историю операций чтобы потом посчитать производные.\n",
        "\n",
        "Чтобы вычислить производные, tf он проходит по операциям, участвовавшим в вычислении и применяет chain rule, например\n",
        "$$ {\\partial \\text{tf.exp}(\\text{tf.cos}(x)) \\over \\partial x} = {\\partial \\text{tf.exp}(\\text{tf.cos}(x)) \\over \\partial \\text{tf.cos}(x)}\\cdot {\\partial \\text{tf.cos}(x) \\over \\partial x} $$\n",
        "\n",
        "* Производные всех элементарных функций (tf.exp, tf.cos, tf.reduce_sum) уже реализованы в TF\n",
        "\n",
        "Таким образом вы можете посчитать производную любого скалярного значения по любому тензору, участвующему в его вычислении. \n",
        "\n",
        "_Давайте поиграемся :)_"
      ]
    },
    {
      "cell_type": "code",
      "metadata": {
        "id": "3yZ-8IJM0bDj",
        "colab_type": "code",
        "outputId": "14636e96-8c87-4821-afb8-c95495c470df",
        "colab": {
          "base_uri": "https://localhost:8080/",
          "height": 269
        }
      },
      "source": [
        "x = tf.linspace(-3.0, 3.0, num=50)\n",
        "\n",
        "with tf.GradientTape() as tape:\n",
        "    tape.watch(x)\n",
        "    x_squared = x ** 2\n",
        "    y = tf.reduce_sum(x_squared)\n",
        "\n",
        "grads = tape.gradient(y, x)\n",
        "\n",
        "plt.plot(x, x_squared, label=\"x^2\")\n",
        "plt.plot(x, grads, label=\"derivative\")\n",
        "plt.legend();"
      ],
      "execution_count": 0,
      "outputs": [
        {
          "output_type": "display_data",
          "data": {
            "image/png": "[encoded data removed]",
            "text/plain": [
              "<Figure size 432x288 with 1 Axes>"
            ]
          },
          "metadata": {
            "tags": []
          }
        }
      ]
    },
    {
      "cell_type": "markdown",
      "metadata": {
        "id": "4BSUkuaD267v",
        "colab_type": "text"
      },
      "source": [
        "### Почему это круто\n",
        "\n",
        "Ниже определена функция __`weird_psychotic_function`__ от __`my_scalar`__ и __`my_vector`__. Что она делает... ой, вам лучше не знать.\n",
        "\n",
        "__ваша задача:__ вычислить производную этой функции по __my_scalar__."
      ]
    },
    {
      "cell_type": "code",
      "metadata": {
        "id": "VgxU6QWm27ve",
        "colab_type": "code",
        "colab": {}
      },
      "source": [
        "@tf.function\n",
        "def weird_psychotic_function(my_scalar, my_vector):\n",
        "    return tf.reduce_mean((my_vector+my_scalar)**(1+tf.nn.moments(my_vector,[0])[1]) + 1./ tf.atan(my_scalar))/(my_scalar**2 + 1) + 0.01*tf.sin(2*my_scalar**1.5)*(tf.reduce_sum(my_vector)* my_scalar**2)*tf.exp((my_scalar-4)**2)/(1+tf.exp((my_scalar-4)**2))*(1.-(tf.exp(-(my_scalar-4)**2))/(1+tf.exp(-(my_scalar-4)**2)))**2\n",
        "\n",
        "def weird_psychotic_gradient(my_scalar, my_vector):\n",
        "    \"\"\" Compute derivatives of weird_psychotic_function w.r.t. my_scalar, use tf.GraidentTape \"\"\"    \n",
        "    ### Your code goes here ###\n",
        "    derivative_wrt_scalar = <...>\n",
        "    return derivative_wrt_scalar"
      ],
      "execution_count": 0,
      "outputs": []
    },
    {
      "cell_type": "code",
      "metadata": {
        "id": "ETXxQHse4Nan",
        "colab_type": "code",
        "outputId": "da5bd2e7-9e18-47e0-c832-451d07757081",
        "colab": {
          "base_uri": "https://localhost:8080/",
          "height": 360
        }
      },
      "source": [
        "scalar_space = tf.linspace(1.0, 7.0, 100)\n",
        "vector = tf.range(1, 4, dtype=tf.float32)\n",
        "\n",
        "y = [weird_psychotic_function(x, vector) for x in scalar_space]\n",
        "y_der_by_scalar = [weird_psychotic_gradient(x, vector) for x in scalar_space]\n",
        "plt.plot(scalar_space, y, label='function')\n",
        "\n",
        "\n",
        "plt.plot(scalar_space, y_der_by_scalar, label='derivative')\n",
        "plt.grid()\n",
        "plt.legend();"
      ],
      "execution_count": 0,
      "outputs": [
        {
          "output_type": "stream",
          "text": [
            "WARNING: Logging before flag parsing goes to stderr.\n",
            "W0903 02:43:32.733084 140422218831744 deprecation.py:323] From /usr/local/lib/python3.6/dist-packages/tensorflow_core/python/ops/math_grad.py:1375: where (from tensorflow.python.ops.array_ops) is deprecated and will be removed in a future version.\n",
            "Instructions for updating:\n",
            "Use tf.where in 2.0, which has the same broadcast rule as np.where\n"
          ],
          "name": "stderr"
        },
        {
          "output_type": "display_data",
          "data": {
            "image/png": "[encoded data removed]",
            "text/plain": [
              "<Figure size 432x288 with 1 Axes>"
            ]
          },
          "metadata": {
            "tags": []
          }
        }
      ]
    },
    {
      "cell_type": "markdown",
      "metadata": {
        "id": "jpP7n3Bnm2cQ",
        "colab_type": "text"
      },
      "source": [
        "# Переменные (Variables) и обучение\n",
        "\n",
        "У практически любой машиннообучаемой модели есть параметры (например, веса нейронной сети), которые изменяются в процессе обучения [`(tf.Variable)`](https://www.tensorflow.org/api_docs/python/tf/placeholder).\n",
        "* Значение переменной можно изменить через `var.assign(new_value)`\n",
        "* Переменные автоматически \"подписываются\" в tf.GradientTape, вам не нужно писать tape.watch(variable)\n",
        "* Больше про то, как работают переменные - [тык](https://www.tensorflow.org/guide/variables).\n",
        "\n",
        "А пока давайте что-нибудь обучим! Например, линейную регрессию. Одномерную."
      ]
    },
    {
      "cell_type": "code",
      "metadata": {
        "id": "ZLcj7lpbm2cR",
        "colab_type": "code",
        "outputId": "517793a8-81fd-4aa7-94d9-018984dc48e2",
        "colab": {
          "base_uri": "https://localhost:8080/",
          "height": 287
        }
      },
      "source": [
        "from sklearn.datasets import load_boston\n",
        "boston = load_boston()\n",
        "x, y = boston.data[:, -1] / 10, boston.target / 10\n",
        "plt.scatter(x, y)"
      ],
      "execution_count": 0,
      "outputs": [
        {
          "output_type": "execute_result",
          "data": {
            "text/plain": [
              "<matplotlib.collections.PathCollection at 0x7fb64e139828>"
            ]
          },
          "metadata": {
            "tags": []
          },
          "execution_count": 7
        },
        {
          "output_type": "display_data",
          "data": {
            "image/png": "[encoded data removed]",
            "text/plain": [
              "<Figure size 432x288 with 1 Axes>"
            ]
          },
          "metadata": {
            "tags": []
          }
        }
      ]
    },
    {
      "cell_type": "code",
      "metadata": {
        "id": "JGj05PyD7-mg",
        "colab_type": "code",
        "colab": {}
      },
      "source": [
        "from IPython.display import clear_output\n",
        "\n",
        "# Create variables\n",
        "w = tf.Variable(0.0)\n",
        "b = tf.Variable(0.0)\n",
        "# note: variables can be scalars, vectors or tensors, e.g. tf.Variable([1, 2, 3])\n",
        "\n",
        "for i in range(100):\n",
        "\n",
        "    # Compute loss\n",
        "    with tf.GradientTape() as tape:\n",
        "        y_pred = w * x + b\n",
        "\n",
        "        # Вычислите среднеквадратичную ошибку (скаляр) между y_pred и y - вручную или с помощью compute_my_mse\n",
        "        loss = <ваш код>\n",
        "    \n",
        "    # gradient descent\n",
        "    dw, db = tape.gradient(loss, [w, b])\n",
        "    w.assign(w - 0.05 * dw)\n",
        "    b.assign(b - 0.05 * db)\n",
        "\n",
        "    # the rest of code is just bells and whistles\n",
        "    if (i+1) % 5 == 0:\n",
        "        clear_output(True)\n",
        "        plt.scatter(x, y)\n",
        "        plt.scatter(x, y_pred, color='orange', linewidth=5)\n",
        "        plt.show()\n",
        "\n",
        "        print(\"loss = \", loss.numpy())\n",
        "        if loss < 0.5:\n",
        "            print(\"Done!\")\n",
        "            break"
      ],
      "execution_count": 0,
      "outputs": []
    },
    {
      "cell_type": "markdown",
      "metadata": {
        "id": "uRzQPko69v-T",
        "colab_type": "text"
      },
      "source": [
        "### Давайте поиграем\n",
        "\n",
        "__Первый квест:__ модифицируйте код выше так, чтобы он обучал квадратичную функцию\n",
        "__Hint 1:__ возможно модель будет учиться лучше если ей поменять learning rate или увеличить число итераций\n",
        "\n",
        "```\n",
        "\n",
        "```\n",
        "\n",
        "\n",
        "\n",
        "__Второй квест:__ всё то же самое, но теперь нужно научить двуслойную нейросеть с ReLU. \n",
        "\n",
        "__Hint 2:__ не забывайте правильно инициализировать веса! Для двухслойной нейронки хватит нормальной инициализации \"на глаз\", а про более серьёзные инициализаторы можно узнать [тут](https://medium.com/@prateekvishnu/xavier-and-he-normal-he-et-al-initialization-8e3d7a087528).\n"
      ]
    },
    {
      "cell_type": "markdown",
      "metadata": {
        "id": "4663mQddm2c-",
        "colab_type": "text"
      },
      "source": [
        "### Hight-level API: модели и оптимизаторы\n",
        "\n",
        "Чтобы вам не приходилось вручную описывать каждый нейрон и шаг градиентного спуска, в TensorFlow есть библиотека [Keras]((https://www.tensorflow.org/versions/r2.0/api_docs/python/tf/keras), в которой реализовано множество [стандартных слоёв](https://www.tensorflow.org/versions/r2.0/api_docs/python/tf/keras/layers) и [алгоритмов оптимизации](https://www.tensorflow.org/versions/r2.0/api_docs/python/tf/keras/optimizers) . Кроме обычного SGD там есть rmsprop, adam и все-все-все - ctrl+пробел / shift+tab вам в помощь."
      ]
    },
    {
      "cell_type": "code",
      "metadata": {
        "id": "CUcw_BcUm2dA",
        "colab_type": "code",
        "colab": {}
      },
      "source": [
        "L = tf.keras.layers\n",
        "model = tf.keras.models.Sequential()\n",
        "model.add(L.Dense(units=100))\n",
        "model.add(L.Activation('elu'))\n",
        "model.add(L.Dense(units=1))\n",
        "\n",
        "optimizer = tf.keras.optimizers.Adam()"
      ],
      "execution_count": 0,
      "outputs": []
    },
    {
      "cell_type": "code",
      "metadata": {
        "scrolled": true,
        "id": "6Kes8Zyum2dE",
        "colab_type": "code",
        "outputId": "53274de1-28e4-47b1-89da-b4beebcc9741",
        "colab": {
          "base_uri": "https://localhost:8080/",
          "height": 305
        }
      },
      "source": [
        "# convert x and y vectors to matrices for compatibility with tf.keras\n",
        "x = tf.cast(tf.reshape(x, [len(x), 1]), tf.float32)\n",
        "y = tf.cast(tf.reshape(y, [len(y), 1]), tf.float32)\n",
        "\n",
        "for i in range(1000):\n",
        "\n",
        "    # Compute loss\n",
        "    with tf.GradientTape() as tape:\n",
        "        y_pred = model(x)\n",
        "        loss = tf.reduce_mean((y_pred - y) ** 2)\n",
        "    \n",
        "    # gradient descent\n",
        "    gradients = tape.gradient(loss, model.trainable_variables)\n",
        "    optimizer.apply_gradients(zip(gradients, model.trainable_variables))\n",
        "\n",
        "    # the rest of code is just bells and whistles\n",
        "    if (i+1) % 50 == 0:\n",
        "        clear_output(True)\n",
        "        plt.scatter(tf.reshape(x, [-1]), tf.reshape(y, [-1]))\n",
        "        plt.scatter(tf.reshape(x, [-1]), tf.reshape(y_pred, [-1]), color='orange', linewidth=5)\n",
        "        plt.show()\n",
        "\n",
        "        print(\"loss = \", loss.numpy())\n",
        "        if loss <= 0.3:\n",
        "            print(\"Done!\")\n",
        "            break"
      ],
      "execution_count": 0,
      "outputs": [
        {
          "output_type": "display_data",
          "data": {
            "image/png": "[encoded data removed]",
            "text/plain": [
              "<Figure size 432x288 with 1 Axes>"
            ]
          },
          "metadata": {
            "tags": []
          }
        },
        {
          "output_type": "stream",
          "text": [
            "loss =  0.29723722\n",
            "Done!\n"
          ],
          "name": "stdout"
        }
      ]
    },
    {
      "cell_type": "markdown",
      "metadata": {
        "id": "OQDDrG3Om2d4",
        "colab_type": "text"
      },
      "source": [
        "\n",
        "```\n",
        "\n",
        "```\n",
        "\n",
        "```\n",
        "\n",
        "```\n",
        "\n",
        "```\n",
        "\n",
        "```\n",
        "\n",
        "```\n",
        "\n",
        "```\n",
        "\n",
        "```\n",
        "\n",
        "```\n",
        "\n",
        "```\n",
        "\n",
        "```\n",
        "\n",
        "```\n",
        "\n",
        "```\n",
        "\n",
        "```\n",
        "\n",
        "```\n",
        "\n",
        "\n",
        "\n",
        "### Дошли досюда?\n",
        "\n",
        "Значит либо вы очень круты и задания показались вам простыми, либо вы решили более подробно изучить тетрадку уже после семинара... ну либо вы просто случайно сюда промотали. В последнем случае прошу промотать обратно к нерешённым заданиям.\n",
        "\n",
        "\n",
        "Всё ещё читаете? Тогда вы сами виноваты. Будем учить многослойную нейронку.\n",
        "\n",
        "\n",
        "Сегодня в меню mnist - распознавание рукописных цифр. Но вы, вероятно, уже их где-то видели.\n",
        "* ч/б картинки 28x28 пикселей = 784 признака\n",
        "* 10 классов\n",
        "* 50k примеров для обучения\n",
        "\n",
        "Ваша задача - научить `хотя_бы_двухслойный_персептрон`, который будет их классифицировать\n",
        "\n",
        "Линейные модели на этой задаче ошибаются чуть больше, чем в __7% случаев__.\n",
        "\n",
        "__Ваша задача:__ сократить долю ошибок хотя бы до __3%__. \n",
        "\n",
        "Если слова \"свёрточная нейросеть\" вам о чём-то говорят - сразу до 1%.\n"
      ]
    },
    {
      "cell_type": "code",
      "metadata": {
        "id": "YenaojHUm2d5",
        "colab_type": "code",
        "colab": {}
      },
      "source": [
        "!wget https://gist.github.com/justheuristic/783144a0c0e82d829707c69240965fa9/raw/39b81ca7f8c3f4f3ce4c980540b25dc858de3020/mnist.py -O mnist.py\n",
        "from mnist import load_dataset\n",
        "X_train, y_train, X_val, y_val, X_test, y_test = load_dataset()\n",
        "\n",
        "print (X_train.shape, y_train.shape)"
      ],
      "execution_count": 0,
      "outputs": []
    },
    {
      "cell_type": "code",
      "metadata": {
        "id": "VKguDc9Wm2d-",
        "colab_type": "code",
        "colab": {}
      },
      "source": [
        "plt.imshow(X_train[0,0])"
      ],
      "execution_count": 0,
      "outputs": []
    },
    {
      "cell_type": "markdown",
      "metadata": {
        "id": "6atP9ZZLm2eB",
        "colab_type": "text"
      },
      "source": [
        "вы чувствуете необъяснимое желание создать модель и оптимизатор в этой клетке"
      ]
    },
    {
      "cell_type": "code",
      "metadata": {
        "id": "BB-ADuSZm2eF",
        "colab_type": "code",
        "colab": {}
      },
      "source": [
        ""
      ],
      "execution_count": 0,
      "outputs": []
    },
    {
      "cell_type": "markdown",
      "metadata": {
        "collapsed": true,
        "id": "sRuxqkH_m2eH",
        "colab_type": "text"
      },
      "source": [
        "что-то подсказывает вам, что ваша нейросеть должна уметь предсказывать вероятности классов"
      ]
    },
    {
      "cell_type": "code",
      "metadata": {
        "id": "3425Txz6m2eJ",
        "colab_type": "code",
        "colab": {}
      },
      "source": [
        ""
      ],
      "execution_count": 0,
      "outputs": []
    },
    {
      "cell_type": "markdown",
      "metadata": {
        "collapsed": true,
        "id": "Nokgl5gxm2eQ",
        "colab_type": "text"
      },
      "source": [
        "вы вспоминаете, что можно обучаться на multiclass log loss (aka categorical crossentropy)"
      ]
    },
    {
      "cell_type": "code",
      "metadata": {
        "id": "Yad8jrHOm2eT",
        "colab_type": "code",
        "colab": {}
      },
      "source": [
        ""
      ],
      "execution_count": 0,
      "outputs": []
    },
    {
      "cell_type": "markdown",
      "metadata": {
        "collapsed": true,
        "id": "n7bR2P8Qm2eW",
        "colab_type": "text"
      },
      "source": [
        "вы чувствуете, что вам потребуется цикл с многими итерациями обучения. голоса в голове шепчут \"используй минибатчи!\""
      ]
    },
    {
      "cell_type": "code",
      "metadata": {
        "id": "31g71Jnum2eX",
        "colab_type": "code",
        "colab": {}
      },
      "source": [
        ""
      ],
      "execution_count": 0,
      "outputs": []
    },
    {
      "cell_type": "markdown",
      "metadata": {
        "collapsed": true,
        "id": "o-3Ig_7ym2ee",
        "colab_type": "text"
      },
      "source": [
        "вам кажется, что было бы неплохо отслеживать качество модели на отдельной выборке"
      ]
    },
    {
      "cell_type": "code",
      "metadata": {
        "id": "Kl_Dgpj-m2ef",
        "colab_type": "code",
        "colab": {}
      },
      "source": [
        ""
      ],
      "execution_count": 0,
      "outputs": []
    },
    {
      "cell_type": "markdown",
      "metadata": {
        "collapsed": true,
        "id": "dl7Yj6pEm2eh",
        "colab_type": "text"
      },
      "source": [
        "только сейчас вы вспоминаете, что у вас есть ещё и тестовая выборка. почему бы не померить точность на ней?"
      ]
    },
    {
      "cell_type": "code",
      "metadata": {
        "id": "PD5ehL2im2ej",
        "colab_type": "code",
        "colab": {}
      },
      "source": [
        ""
      ],
      "execution_count": 0,
      "outputs": []
    }
  ]
}